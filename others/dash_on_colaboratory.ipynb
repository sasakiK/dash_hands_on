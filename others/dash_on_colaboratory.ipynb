{
 "cells": [
  {
   "cell_type": "markdown",
   "metadata": {
    "colab": {},
    "colab_type": "code",
    "id": "T6ICgse2FFTk"
   },
   "source": [
    "# Colaboratoryで立てているサーバーをLANの外に公開する"
   ]
  },
  {
   "cell_type": "code",
   "execution_count": 9,
   "metadata": {
    "colab": {
     "base_uri": "https://localhost:8080/",
     "height": 255
    },
    "colab_type": "code",
    "id": "goJKrfgUEEq5",
    "outputId": "75f7f914-c208-4e97-9dda-83b7a1b0a543"
   },
   "outputs": [
    {
     "name": "stdout",
     "output_type": "stream",
     "text": [
      "--2019-10-28 06:31:55--  https://bin.equinox.io/c/4VmDzA7iaHb/ngrok-stable-linux-amd64.zip\n",
      "Resolving bin.equinox.io (bin.equinox.io)... 3.219.64.173, 52.201.75.180, 34.237.203.145, ...\n",
      "Connecting to bin.equinox.io (bin.equinox.io)|3.219.64.173|:443... connected.\n",
      "HTTP request sent, awaiting response... 200 OK\n",
      "Length: 13773305 (13M) [application/octet-stream]\n",
      "Saving to: ‘ngrok-stable-linux-amd64.zip’\n",
      "\n",
      "ngrok-stable-linux- 100%[===================>]  13.13M  50.3MB/s    in 0.3s    \n",
      "\n",
      "2019-10-28 06:31:56 (50.3 MB/s) - ‘ngrok-stable-linux-amd64.zip’ saved [13773305/13773305]\n",
      "\n",
      "Archive:  ngrok-stable-linux-amd64.zip\n",
      "  inflating: ngrok                   \n",
      "http://da30bd57.ngrok.io\n"
     ]
    }
   ],
   "source": [
    "!wget https://bin.equinox.io/c/4VmDzA7iaHb/ngrok-stable-linux-amd64.zip\n",
    "!unzip ngrok-stable-linux-amd64.zip\n",
    "\n",
    "get_ipython().system_raw('./ngrok http 6006 &')\n",
    "! curl -s http://localhost:4040/api/tunnels | python3 -c \\\n",
    "    \"import sys, json; print(json.load(sys.stdin)['tunnels'][0]['public_url'])\""
   ]
  },
  {
   "cell_type": "code",
   "execution_count": 6,
   "metadata": {
    "colab": {
     "base_uri": "https://localhost:8080/",
     "height": 850
    },
    "colab_type": "code",
    "id": "8KyFVS_ZDLeE",
    "outputId": "769a071c-8350-41a7-d578-896b00895e9b"
   },
   "outputs": [
    {
     "name": "stdout",
     "output_type": "stream",
     "text": [
      "Collecting dash\n",
      "\u001b[?25l  Downloading https://files.pythonhosted.org/packages/1f/b3/7a33f4649d546d3df013eacf44233fbf774ef382e7f8e54fe52d1ff14303/dash-1.4.1.tar.gz (59kB)\n",
      "\r",
      "\u001b[K     |█████▌                          | 10kB 13.6MB/s eta 0:00:01\r",
      "\u001b[K     |███████████                     | 20kB 1.7MB/s eta 0:00:01\r",
      "\u001b[K     |████████████████▌               | 30kB 2.5MB/s eta 0:00:01\r",
      "\u001b[K     |██████████████████████          | 40kB 1.7MB/s eta 0:00:01\r",
      "\u001b[K     |███████████████████████████▌    | 51kB 2.1MB/s eta 0:00:01\r",
      "\u001b[K     |████████████████████████████████| 61kB 1.9MB/s \n",
      "\u001b[?25hRequirement already satisfied: Flask>=1.0.2 in /usr/local/lib/python3.6/dist-packages (from dash) (1.1.1)\n",
      "Collecting flask-compress\n",
      "  Downloading https://files.pythonhosted.org/packages/0e/2a/378bd072928f6d92fd8c417d66b00c757dc361c0405a46a0134de6fd323d/Flask-Compress-1.4.0.tar.gz\n",
      "Requirement already satisfied: plotly in /usr/local/lib/python3.6/dist-packages (from dash) (4.1.1)\n",
      "Collecting dash_renderer==1.1.2\n",
      "\u001b[?25l  Downloading https://files.pythonhosted.org/packages/e3/8c/5c3da326bc8249a345ff4f737a7ec2eb32b74f61397ffba639fa3c02549b/dash_renderer-1.1.2.tar.gz (1.2MB)\n",
      "\u001b[K     |████████████████████████████████| 1.2MB 7.9MB/s \n",
      "\u001b[?25hCollecting dash-core-components==1.3.1\n",
      "\u001b[?25l  Downloading https://files.pythonhosted.org/packages/43/f3/3b02ed75036fc63caf4c3047fca31a0acedf9788c69c94a1990b42c97a3b/dash_core_components-1.3.1.tar.gz (2.1MB)\n",
      "\u001b[K     |████████████████████████████████| 2.1MB 45.7MB/s \n",
      "\u001b[?25hCollecting dash-html-components==1.0.1\n",
      "\u001b[?25l  Downloading https://files.pythonhosted.org/packages/0d/e8/e6f68c0a3c146d15bebe8d3570ebe535abdbba90b87e548bdf3363ecddbe/dash_html_components-1.0.1.tar.gz (187kB)\n",
      "\u001b[K     |████████████████████████████████| 194kB 46.2MB/s \n",
      "\u001b[?25hCollecting dash-table==4.4.1\n",
      "\u001b[?25l  Downloading https://files.pythonhosted.org/packages/7f/da/ff797fe21276d0b9cdd215486bb242fd937338e2104e466c17b8e1918c6f/dash_table-4.4.1.tar.gz (1.8MB)\n",
      "\u001b[K     |████████████████████████████████| 1.8MB 38.7MB/s \n",
      "\u001b[?25hRequirement already satisfied: future in /usr/local/lib/python3.6/dist-packages (from dash) (0.16.0)\n",
      "Requirement already satisfied: itsdangerous>=0.24 in /usr/local/lib/python3.6/dist-packages (from Flask>=1.0.2->dash) (1.1.0)\n",
      "Requirement already satisfied: click>=5.1 in /usr/local/lib/python3.6/dist-packages (from Flask>=1.0.2->dash) (7.0)\n",
      "Requirement already satisfied: Jinja2>=2.10.1 in /usr/local/lib/python3.6/dist-packages (from Flask>=1.0.2->dash) (2.10.3)\n",
      "Requirement already satisfied: Werkzeug>=0.15 in /usr/local/lib/python3.6/dist-packages (from Flask>=1.0.2->dash) (0.16.0)\n",
      "Requirement already satisfied: retrying>=1.3.3 in /usr/local/lib/python3.6/dist-packages (from plotly->dash) (1.3.3)\n",
      "Requirement already satisfied: six in /usr/local/lib/python3.6/dist-packages (from plotly->dash) (1.12.0)\n",
      "Requirement already satisfied: MarkupSafe>=0.23 in /usr/local/lib/python3.6/dist-packages (from Jinja2>=2.10.1->Flask>=1.0.2->dash) (1.1.1)\n",
      "Building wheels for collected packages: dash, flask-compress, dash-renderer, dash-core-components, dash-html-components, dash-table\n",
      "  Building wheel for dash (setup.py) ... \u001b[?25l\u001b[?25hdone\n",
      "  Created wheel for dash: filename=dash-1.4.1-cp36-none-any.whl size=66440 sha256=7bbc090b8828fc3018933456ef509e99d7b3469dc5db1e24466958214f68c9bc\n",
      "  Stored in directory: /root/.cache/pip/wheels/41/11/b7/643b47546d61ba55d7f29325c4952c1639edb8798887bad458\n",
      "  Building wheel for flask-compress (setup.py) ... \u001b[?25l\u001b[?25hdone\n",
      "  Created wheel for flask-compress: filename=Flask_Compress-1.4.0-cp36-none-any.whl size=3712 sha256=e5272ee7fe399aa907a21bab3172641ee4b5fc1f6b2deb0d6a7ea367de4f2a31\n",
      "  Stored in directory: /root/.cache/pip/wheels/96/32/88/a1f6d9dd3c29570ab3a8acc0d556b3b20abcf3c623c868ce0a\n",
      "  Building wheel for dash-renderer (setup.py) ... \u001b[?25l\u001b[?25hdone\n",
      "  Created wheel for dash-renderer: filename=dash_renderer-1.1.2-cp36-none-any.whl size=1166891 sha256=654e725766762c721d736d96a4a6a7388037f6b85363b888b7a9782d181e3be4\n",
      "  Stored in directory: /root/.cache/pip/wheels/f6/07/8b/f262dd356b8cb359a5b3f5e4ff9d4ddb85854bd51f824ffa58\n",
      "  Building wheel for dash-core-components (setup.py) ... \u001b[?25l\u001b[?25hdone\n",
      "  Created wheel for dash-core-components: filename=dash_core_components-1.3.1-cp36-none-any.whl size=2116124 sha256=58f975381256953233989bba03fccf110def084aece40cf9c58d259d5b27afab\n",
      "  Stored in directory: /root/.cache/pip/wheels/1c/17/c0/2b0efaea7c795d0b1c29e040683c10e8e2c78919d26ad1c0ae\n",
      "  Building wheel for dash-html-components (setup.py) ... \u001b[?25l\u001b[?25hdone\n",
      "  Created wheel for dash-html-components: filename=dash_html_components-1.0.1-cp36-none-any.whl size=428711 sha256=190422db35b735a2774cae30a6a2895395d1eaa43187bfd1eeeac9bc681df9b8\n",
      "  Stored in directory: /root/.cache/pip/wheels/54/27/d1/b452e9aa92aa1883543248a23707d448ada5f990d603f2ebf1\n",
      "  Building wheel for dash-table (setup.py) ... \u001b[?25l\u001b[?25hdone\n",
      "  Created wheel for dash-table: filename=dash_table-4.4.1-cp36-none-any.whl size=1809692 sha256=4e35bf0a9256ae2e3acbb60d7cddc24d750d9b0d309a0585670b06d4f125d5bc\n",
      "  Stored in directory: /root/.cache/pip/wheels/ea/fe/22/bb954af16a3c143e10a76ae239f73b5812c7d77d7b2d6c1af3\n",
      "Successfully built dash flask-compress dash-renderer dash-core-components dash-html-components dash-table\n",
      "Installing collected packages: flask-compress, dash-renderer, dash-core-components, dash-html-components, dash-table, dash\n",
      "Successfully installed dash-1.4.1 dash-core-components-1.3.1 dash-html-components-1.0.1 dash-renderer-1.1.2 dash-table-4.4.1 flask-compress-1.4.0\n"
     ]
    }
   ],
   "source": [
    "# dashをインストールする\n",
    "! pip install dash"
   ]
  },
  {
   "cell_type": "code",
   "execution_count": 0,
   "metadata": {
    "colab": {
     "base_uri": "https://localhost:8080/",
     "height": 102
    },
    "colab_type": "code",
    "id": "H40X-dAhC7Vj",
    "outputId": "980319e7-4206-4ecc-afdb-f9adaa94ab6f"
   },
   "outputs": [
    {
     "name": "stdout",
     "output_type": "stream",
     "text": [
      " * Serving Flask app \"__main__\" (lazy loading)\n",
      " * Environment: production\n",
      "   WARNING: This is a development server. Do not use it in a production deployment.\n",
      "   Use a production WSGI server instead.\n",
      " * Debug mode: off\n"
     ]
    }
   ],
   "source": [
    "import dash  \n",
    "import dash_core_components as dcc \n",
    "import dash_html_components as html  \n",
    "# appという箱作り①\n",
    "app = dash.Dash(__name__)\n",
    "\n",
    "# appという箱に中身を詰める②\n",
    "app.layout = html.Div(\n",
    "   children =[\n",
    "    html.H1('Hello Dash',),\n",
    "    dcc.Graph(\n",
    "        id = \"first-graph\",\n",
    "        figure = {\n",
    "        'data': [\n",
    "            {'x': [1,2,3,4],\n",
    "            'y':[3,2,4,6],\n",
    "            'type': 'bar',\n",
    "            'name': '東京'},\n",
    "            {'x':[1,2,3,4],\n",
    "            'y':[2,4,3,2],\n",
    "            'type': 'bar',\n",
    "            'name': '大阪'}\n",
    "        ],\n",
    "        'layout': {\n",
    "            'title': 'グラフ1　東京　対　大阪'\n",
    "        }\n",
    "        }\n",
    "    )\n",
    "])\n",
    "\n",
    "# 実行用③\n",
    "if __name__=='__main__':\n",
    "    app.run_server(port=6006)"
   ]
  },
  {
   "cell_type": "markdown",
   "metadata": {
    "colab": {},
    "colab_type": "code",
    "id": "nyhiLjOEDWPN"
   },
   "source": [
    "# ↑を実行して、さっき発行したURL↓にアクセスすると起動中のアプリがみられる\n",
    "http://da30bd57.ngrok.io"
   ]
  },
  {
   "cell_type": "code",
   "execution_count": null,
   "metadata": {},
   "outputs": [],
   "source": []
  }
 ],
 "metadata": {
  "colab": {
   "collapsed_sections": [],
   "name": "Colaboratory へようこそ のコピー",
   "provenance": []
  },
  "kernelspec": {
   "display_name": "Python 3",
   "language": "python",
   "name": "python3"
  },
  "language_info": {
   "codemirror_mode": {
    "name": "ipython",
    "version": 3
   },
   "file_extension": ".py",
   "mimetype": "text/x-python",
   "name": "python",
   "nbconvert_exporter": "python",
   "pygments_lexer": "ipython3",
   "version": "3.6.1"
  }
 },
 "nbformat": 4,
 "nbformat_minor": 1
}
